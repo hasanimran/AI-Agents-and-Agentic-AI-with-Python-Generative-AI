{
  "nbformat": 4,
  "nbformat_minor": 0,
  "metadata": {
    "colab": {
      "provenance": [],
      "authorship_tag": "ABX9TyM2caw4Cwz/c+e9H8K0vmpj",
      "include_colab_link": true
    },
    "kernelspec": {
      "name": "python3",
      "display_name": "Python 3"
    },
    "language_info": {
      "name": "python"
    }
  },
  "cells": [
    {
      "cell_type": "markdown",
      "metadata": {
        "id": "view-in-github",
        "colab_type": "text"
      },
      "source": [
        "<a href=\"https://colab.research.google.com/github/hasanimran/AI-Agents-and-Agentic-AI-with-Python-Generative-AI/blob/main/ProgrammaticPromptingAgents.ipynb\" target=\"_parent\"><img src=\"https://colab.research.google.com/assets/colab-badge.svg\" alt=\"Open In Colab\"/></a>"
      ]
    },
    {
      "cell_type": "code",
      "source": [
        "!!pip install litellm"
      ],
      "metadata": {
        "colab": {
          "base_uri": "https://localhost:8080/"
        },
        "id": "-6sKR9MMUueV",
        "outputId": "d1d6bce3-d4a7-43f4-d50a-97428b22a8a6"
      },
      "execution_count": 2,
      "outputs": [
        {
          "output_type": "execute_result",
          "data": {
            "text/plain": [
              "['Collecting litellm',\n",
              " '  Downloading litellm-1.74.0.post1.tar.gz (9.0 MB)',\n",
              " '\\x1b[?25l     \\x1b[90m━━━━━━━━━━━━━━━━━━━━━━━━━━━━━━━━━━━━━━━━\\x1b[0m \\x1b[32m0.0/9.0 MB\\x1b[0m \\x1b[31m?\\x1b[0m eta \\x1b[36m-:--:--\\x1b[0m',\n",
              " '\\x1b[2K     \\x1b[91m━━\\x1b[0m\\x1b[91m╸\\x1b[0m\\x1b[90m━━━━━━━━━━━━━━━━━━━━━━━━━━━━━━━━━━━━━\\x1b[0m \\x1b[32m0.6/9.0 MB\\x1b[0m \\x1b[31m18.2 MB/s\\x1b[0m eta \\x1b[36m0:00:01\\x1b[0m',\n",
              " '\\x1b[2K     \\x1b[91m━━━━━━━━━━━━━━━━━━\\x1b[0m\\x1b[91m╸\\x1b[0m\\x1b[90m━━━━━━━━━━━━━━━━━━━━━\\x1b[0m \\x1b[32m4.2/9.0 MB\\x1b[0m \\x1b[31m68.7 MB/s\\x1b[0m eta \\x1b[36m0:00:01\\x1b[0m',\n",
              " '\\x1b[2K     \\x1b[91m━━━━━━━━━━━━━━━━━━━━━━━━━━━━━━━━\\x1b[0m\\x1b[90m╺\\x1b[0m\\x1b[90m━━━━━━━\\x1b[0m \\x1b[32m7.3/9.0 MB\\x1b[0m \\x1b[31m71.7 MB/s\\x1b[0m eta \\x1b[36m0:00:01\\x1b[0m',\n",
              " '\\x1b[2K     \\x1b[91m━━━━━━━━━━━━━━━━━━━━━━━━━━━━━━━━━━━━━━━\\x1b[0m\\x1b[91m╸\\x1b[0m \\x1b[32m9.0/9.0 MB\\x1b[0m \\x1b[31m77.1 MB/s\\x1b[0m eta \\x1b[36m0:00:01\\x1b[0m',\n",
              " '\\x1b[2K     \\x1b[90m━━━━━━━━━━━━━━━━━━━━━━━━━━━━━━━━━━━━━━━━\\x1b[0m \\x1b[32m9.0/9.0 MB\\x1b[0m \\x1b[31m59.5 MB/s\\x1b[0m eta \\x1b[36m0:00:00\\x1b[0m',\n",
              " '\\x1b[?25h  Installing build dependencies ... \\x1b[?25l\\x1b[?25hdone',\n",
              " '  Getting requirements to build wheel ... \\x1b[?25l\\x1b[?25hdone',\n",
              " '  Preparing metadata (pyproject.toml) ... \\x1b[?25l\\x1b[?25hdone',\n",
              " 'Requirement already satisfied: aiohttp>=3.10 in /usr/local/lib/python3.11/dist-packages (from litellm) (3.11.15)',\n",
              " 'Requirement already satisfied: click in /usr/local/lib/python3.11/dist-packages (from litellm) (8.2.1)',\n",
              " 'Requirement already satisfied: httpx>=0.23.0 in /usr/local/lib/python3.11/dist-packages (from litellm) (0.28.1)',\n",
              " 'Requirement already satisfied: importlib-metadata>=6.8.0 in /usr/local/lib/python3.11/dist-packages (from litellm) (8.7.0)',\n",
              " 'Requirement already satisfied: jinja2<4.0.0,>=3.1.2 in /usr/local/lib/python3.11/dist-packages (from litellm) (3.1.6)',\n",
              " 'Requirement already satisfied: jsonschema<5.0.0,>=4.22.0 in /usr/local/lib/python3.11/dist-packages (from litellm) (4.24.0)',\n",
              " 'Requirement already satisfied: openai>=1.68.2 in /usr/local/lib/python3.11/dist-packages (from litellm) (1.93.0)',\n",
              " 'Requirement already satisfied: pydantic<3.0.0,>=2.5.0 in /usr/local/lib/python3.11/dist-packages (from litellm) (2.11.7)',\n",
              " 'Collecting python-dotenv>=0.2.0 (from litellm)',\n",
              " '  Downloading python_dotenv-1.1.1-py3-none-any.whl.metadata (24 kB)',\n",
              " 'Requirement already satisfied: tiktoken>=0.7.0 in /usr/local/lib/python3.11/dist-packages (from litellm) (0.9.0)',\n",
              " 'Requirement already satisfied: tokenizers in /usr/local/lib/python3.11/dist-packages (from litellm) (0.21.2)',\n",
              " 'Requirement already satisfied: aiohappyeyeballs>=2.3.0 in /usr/local/lib/python3.11/dist-packages (from aiohttp>=3.10->litellm) (2.6.1)',\n",
              " 'Requirement already satisfied: aiosignal>=1.1.2 in /usr/local/lib/python3.11/dist-packages (from aiohttp>=3.10->litellm) (1.3.2)',\n",
              " 'Requirement already satisfied: attrs>=17.3.0 in /usr/local/lib/python3.11/dist-packages (from aiohttp>=3.10->litellm) (25.3.0)',\n",
              " 'Requirement already satisfied: frozenlist>=1.1.1 in /usr/local/lib/python3.11/dist-packages (from aiohttp>=3.10->litellm) (1.7.0)',\n",
              " 'Requirement already satisfied: multidict<7.0,>=4.5 in /usr/local/lib/python3.11/dist-packages (from aiohttp>=3.10->litellm) (6.6.3)',\n",
              " 'Requirement already satisfied: propcache>=0.2.0 in /usr/local/lib/python3.11/dist-packages (from aiohttp>=3.10->litellm) (0.3.2)',\n",
              " 'Requirement already satisfied: yarl<2.0,>=1.17.0 in /usr/local/lib/python3.11/dist-packages (from aiohttp>=3.10->litellm) (1.20.1)',\n",
              " 'Requirement already satisfied: anyio in /usr/local/lib/python3.11/dist-packages (from httpx>=0.23.0->litellm) (4.9.0)',\n",
              " 'Requirement already satisfied: certifi in /usr/local/lib/python3.11/dist-packages (from httpx>=0.23.0->litellm) (2025.6.15)',\n",
              " 'Requirement already satisfied: httpcore==1.* in /usr/local/lib/python3.11/dist-packages (from httpx>=0.23.0->litellm) (1.0.9)',\n",
              " 'Requirement already satisfied: idna in /usr/local/lib/python3.11/dist-packages (from httpx>=0.23.0->litellm) (3.10)',\n",
              " 'Requirement already satisfied: h11>=0.16 in /usr/local/lib/python3.11/dist-packages (from httpcore==1.*->httpx>=0.23.0->litellm) (0.16.0)',\n",
              " 'Requirement already satisfied: zipp>=3.20 in /usr/local/lib/python3.11/dist-packages (from importlib-metadata>=6.8.0->litellm) (3.23.0)',\n",
              " 'Requirement already satisfied: MarkupSafe>=2.0 in /usr/local/lib/python3.11/dist-packages (from jinja2<4.0.0,>=3.1.2->litellm) (3.0.2)',\n",
              " 'Requirement already satisfied: jsonschema-specifications>=2023.03.6 in /usr/local/lib/python3.11/dist-packages (from jsonschema<5.0.0,>=4.22.0->litellm) (2025.4.1)',\n",
              " 'Requirement already satisfied: referencing>=0.28.4 in /usr/local/lib/python3.11/dist-packages (from jsonschema<5.0.0,>=4.22.0->litellm) (0.36.2)',\n",
              " 'Requirement already satisfied: rpds-py>=0.7.1 in /usr/local/lib/python3.11/dist-packages (from jsonschema<5.0.0,>=4.22.0->litellm) (0.26.0)',\n",
              " 'Requirement already satisfied: distro<2,>=1.7.0 in /usr/local/lib/python3.11/dist-packages (from openai>=1.68.2->litellm) (1.9.0)',\n",
              " 'Requirement already satisfied: jiter<1,>=0.4.0 in /usr/local/lib/python3.11/dist-packages (from openai>=1.68.2->litellm) (0.10.0)',\n",
              " 'Requirement already satisfied: sniffio in /usr/local/lib/python3.11/dist-packages (from openai>=1.68.2->litellm) (1.3.1)',\n",
              " 'Requirement already satisfied: tqdm>4 in /usr/local/lib/python3.11/dist-packages (from openai>=1.68.2->litellm) (4.67.1)',\n",
              " 'Requirement already satisfied: typing-extensions<5,>=4.11 in /usr/local/lib/python3.11/dist-packages (from openai>=1.68.2->litellm) (4.14.0)',\n",
              " 'Requirement already satisfied: annotated-types>=0.6.0 in /usr/local/lib/python3.11/dist-packages (from pydantic<3.0.0,>=2.5.0->litellm) (0.7.0)',\n",
              " 'Requirement already satisfied: pydantic-core==2.33.2 in /usr/local/lib/python3.11/dist-packages (from pydantic<3.0.0,>=2.5.0->litellm) (2.33.2)',\n",
              " 'Requirement already satisfied: typing-inspection>=0.4.0 in /usr/local/lib/python3.11/dist-packages (from pydantic<3.0.0,>=2.5.0->litellm) (0.4.1)',\n",
              " 'Requirement already satisfied: regex>=2022.1.18 in /usr/local/lib/python3.11/dist-packages (from tiktoken>=0.7.0->litellm) (2024.11.6)',\n",
              " 'Requirement already satisfied: requests>=2.26.0 in /usr/local/lib/python3.11/dist-packages (from tiktoken>=0.7.0->litellm) (2.32.3)',\n",
              " 'Requirement already satisfied: huggingface-hub<1.0,>=0.16.4 in /usr/local/lib/python3.11/dist-packages (from tokenizers->litellm) (0.33.1)',\n",
              " 'Requirement already satisfied: filelock in /usr/local/lib/python3.11/dist-packages (from huggingface-hub<1.0,>=0.16.4->tokenizers->litellm) (3.18.0)',\n",
              " 'Requirement already satisfied: fsspec>=2023.5.0 in /usr/local/lib/python3.11/dist-packages (from huggingface-hub<1.0,>=0.16.4->tokenizers->litellm) (2025.3.2)',\n",
              " 'Requirement already satisfied: packaging>=20.9 in /usr/local/lib/python3.11/dist-packages (from huggingface-hub<1.0,>=0.16.4->tokenizers->litellm) (24.2)',\n",
              " 'Requirement already satisfied: pyyaml>=5.1 in /usr/local/lib/python3.11/dist-packages (from huggingface-hub<1.0,>=0.16.4->tokenizers->litellm) (6.0.2)',\n",
              " 'Requirement already satisfied: hf-xet<2.0.0,>=1.1.2 in /usr/local/lib/python3.11/dist-packages (from huggingface-hub<1.0,>=0.16.4->tokenizers->litellm) (1.1.5)',\n",
              " 'Requirement already satisfied: charset-normalizer<4,>=2 in /usr/local/lib/python3.11/dist-packages (from requests>=2.26.0->tiktoken>=0.7.0->litellm) (3.4.2)',\n",
              " 'Requirement already satisfied: urllib3<3,>=1.21.1 in /usr/local/lib/python3.11/dist-packages (from requests>=2.26.0->tiktoken>=0.7.0->litellm) (2.4.0)',\n",
              " 'Downloading python_dotenv-1.1.1-py3-none-any.whl (20 kB)',\n",
              " 'Building wheels for collected packages: litellm',\n",
              " '  Building wheel for litellm (pyproject.toml) ... \\x1b[?25l\\x1b[?25hdone',\n",
              " '  Created wheel for litellm: filename=litellm-1.74.0.post1-py3-none-any.whl size=8544109 sha256=bf7c38cf371f7653fe1da0f83fc792fb1041280a46a907ff1eee184a17b64e6f',\n",
              " '  Stored in directory: /root/.cache/pip/wheels/5a/26/3b/3c07afb2df4acdf458b2444b80502ee03ff1b59b54eb9fb24d',\n",
              " 'Successfully built litellm',\n",
              " 'Installing collected packages: python-dotenv, litellm',\n",
              " 'Successfully installed litellm-1.74.0.post1 python-dotenv-1.1.1']"
            ]
          },
          "metadata": {},
          "execution_count": 2
        }
      ]
    },
    {
      "cell_type": "code",
      "source": [
        "import os\n",
        "from google.colab import userdata\n",
        "api_key = userdata.get('OPENAI_API_KEY')\n",
        "os.environ['OPENAI_API_KEY'] = api_key"
      ],
      "metadata": {
        "id": "vb4VosdxV3un"
      },
      "execution_count": 4,
      "outputs": []
    },
    {
      "cell_type": "code",
      "execution_count": 5,
      "metadata": {
        "colab": {
          "base_uri": "https://localhost:8080/"
        },
        "id": "NcwAecCLRHQG",
        "outputId": "ede0c480-9da7-4c72-a0c7-1fa96f1827ab"
      },
      "outputs": [
        {
          "output_type": "stream",
          "name": "stdout",
          "text": [
            "\n",
            "What kind of function would you like to create?\n",
            "Example: 'A function that calculates the factorial of a number'\n",
            "Your description: I want a detailed perspective of the function\n",
            "\n",
            "=== Initial Function ===\n",
            "Sure, but could you please provide more details? What exactly should the function do? All Python functions depend on what you want to achieve with them. With more context, I can provide a more accurate and helpful response.\n",
            "\n",
            "=== Documented Function ===\n",
            "I apologize, but there seems to be some misunderstanding. In order to provide a comprehensive documentation, I need to know what function you're referring to. Could you please provide a specific Python function for which the detailed documentation is needed?\n",
            "\n",
            "=== Test Cases ===\n",
            "Sure, I'd be happy to provide some examples of unittest test cases! However, I need to know what function you want tested. Unittest cases depend greatly on the specific function and its expected behavior.\n",
            "\n",
            "It would be very helpful if you provide me with the Python function and its purpose that you require to add unittest test cases for.\n",
            "\n",
            "Can you provide more information on the function you are referring to? \n",
            "\n",
            "\n",
            "Final code has been saved to i_want_a_detailed_perspective_.py\n"
          ]
        }
      ],
      "source": [
        "from litellm import completion\n",
        "from typing import List, Dict\n",
        "import sys\n",
        "\n",
        "def generate_response(messages: List[Dict]) -> str:\n",
        "   \"\"\"Call LLM to get response\"\"\"\n",
        "   response = completion(\n",
        "      model=\"openai/gpt-4\",\n",
        "      messages=messages,\n",
        "      max_tokens=1024\n",
        "   )\n",
        "   return response.choices[0].message.content\n",
        "\n",
        "def extract_code_block(response: str) -> str:\n",
        "   \"\"\"Extract code block from response\"\"\"\n",
        "\n",
        "   if not '```' in response:\n",
        "      return response\n",
        "\n",
        "   code_block = response.split('```')[1].strip()\n",
        "   # Check for \"python\" at the start and remove\n",
        "\n",
        "   if code_block.startswith(\"python\"):\n",
        "      code_block = code_block[6:]\n",
        "\n",
        "   return code_block\n",
        "\n",
        "def develop_custom_function():\n",
        "   # Get user input for function description\n",
        "   print(\"\\nWhat kind of function would you like to create?\")\n",
        "   print(\"Example: 'A function that calculates the factorial of a number'\")\n",
        "   print(\"Your description: \", end='')\n",
        "   function_description = input().strip()\n",
        "\n",
        "   # Initialize conversation with system prompt\n",
        "   messages = [\n",
        "      {\"role\": \"system\", \"content\": \"You are a Python expert helping to develop a function.\"}\n",
        "   ]\n",
        "\n",
        "   # First prompt - Basic function\n",
        "   messages.append({\n",
        "      \"role\": \"user\",\n",
        "      \"content\": f\"Write a Python function that {function_description}. Output the function in a ```python code block```.\"\n",
        "   })\n",
        "   initial_function = generate_response(messages)\n",
        "\n",
        "   # Parse the response to get the function code\n",
        "   initial_function = extract_code_block(initial_function)\n",
        "\n",
        "   print(\"\\n=== Initial Function ===\")\n",
        "   print(initial_function)\n",
        "\n",
        "   # Add assistant's response to conversation\n",
        "   # Notice that I am purposely causing it to forget its commentary and just see the code so that\n",
        "   # it appears that is always outputting just code.\n",
        "   messages.append({\"role\": \"assistant\", \"content\": \"\\`\\`\\`python\\n\\n\"+initial_function+\"\\n\\n\\`\\`\\`\"})\n",
        "\n",
        "   # Second prompt - Add documentation\n",
        "   messages.append({\n",
        "      \"role\": \"user\",\n",
        "      \"content\": \"Add comprehensive documentation to this function, including description, parameters, \"\n",
        "                 \"return value, examples, and edge cases. Output the function in a ```python code block```.\"\n",
        "   })\n",
        "   documented_function = generate_response(messages)\n",
        "   documented_function = extract_code_block(documented_function)\n",
        "   print(\"\\n=== Documented Function ===\")\n",
        "   print(documented_function)\n",
        "\n",
        "   # Add documentation response to conversation\n",
        "   messages.append({\"role\": \"assistant\", \"content\": \"\\`\\`\\`python\\n\\n\"+documented_function+\"\\n\\n\\`\\`\\`\"})\n",
        "\n",
        "   # Third prompt - Add test cases\n",
        "   messages.append({\n",
        "      \"role\": \"user\",\n",
        "      \"content\": \"Add unittest test cases for this function, including tests for basic functionality, \"\n",
        "                 \"edge cases, error cases, and various input scenarios. Output the code in a \\`\\`\\`python code block\\`\\`\\`.\"\n",
        "   })\n",
        "   test_cases = generate_response(messages)\n",
        "   # We will likely run into random problems here depending on if it outputs JUST the test cases or the\n",
        "   # test cases AND the code. This is the type of issue we will learn to work through with agents in the course.\n",
        "   test_cases = extract_code_block(test_cases)\n",
        "   print(\"\\n=== Test Cases ===\")\n",
        "   print(test_cases)\n",
        "\n",
        "   # Generate filename from function description\n",
        "   filename = function_description.lower()\n",
        "   filename = ''.join(c for c in filename if c.isalnum() or c.isspace())\n",
        "   filename = filename.replace(' ', '_')[:30] + '.py'\n",
        "\n",
        "   # Save final version\n",
        "   with open(filename, 'w') as f:\n",
        "      f.write(documented_function + '\\n\\n' + test_cases)\n",
        "\n",
        "   return documented_function, test_cases, filename\n",
        "\n",
        "if __name__ == \"__main__\":\n",
        "\n",
        "\n",
        "   function_code, tests, filename = develop_custom_function()\n",
        "   print(f\"\\nFinal code has been saved to {filename}\")"
      ]
    }
  ]
}